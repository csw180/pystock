{
 "cells": [
  {
   "cell_type": "code",
   "execution_count": null,
   "metadata": {},
   "outputs": [],
   "source": [
    "import pandas as pd\n",
    "from  bs4 import BeautifulSoup\n",
    "from urllib.request import urlopen\n",
    "\n",
    "# url = 'https://finance.naver.com/item/sise_day.naver?code=068270&&page=1'\n",
    "url = 'https://finance.naver.com/item/sise_day.naver?code=068270&&page=1'\n",
    "\n",
    "with urlopen(url) as doc :\n",
    "    html = BeautifulSoup(doc,'lxml')\n",
    "    print(html)\n",
    "    # pgrr =  html.select('.pgRR')\n",
    "    # print(pgrr)\n",
    "\n",
    "\n"
   ]
  },
  {
   "cell_type": "markdown",
   "metadata": {},
   "source": [
    "네이버가 웹 스크레이핑을 차단해서 파이썬을 통해 urlopen() 으로 생으로 접근하면    \n",
    "해당주소가 없는주소라고 결과를 보낸다.     \n",
    "아래와 같이 header를 넣어주어 정상적인 웹브라우져에서 접근하는것처럼 해야 한다.     \n"
   ]
  },
  {
   "cell_type": "code",
   "execution_count": 61,
   "metadata": {},
   "outputs": [
    {
     "name": "stdout",
     "output_type": "stream",
     "text": [
      "/item/sise_day.naver?code=068270&&page=404\n",
      "['/item/sise_day.naver?code', '068270&&page', '404']\n",
      "404\n"
     ]
    }
   ],
   "source": [
    "import pandas as pd\n",
    "from  bs4 import BeautifulSoup\n",
    "import requests\n",
    "\n",
    "url = 'https://finance.naver.com/item/sise_day.naver?code=068270&&page=1'\n",
    "\n",
    "doc = requests.get(url,headers={'User-agent':'Mozilla/5.0'})\n",
    "html = BeautifulSoup(doc.text,'lxml')\n",
    "\n",
    "# pgrr =  html.find('td',class_='pgRR')\n",
    "# print(type(pgrr))          #  <class 'bs4.element.Tag'>\n",
    "\n",
    "pgrr =  html.select(\"td.pgRR>a\")\n",
    "a = pgrr[0]['href'].split('=')\n",
    "last_page = int(a[-1])\n",
    "print(last_page)\n",
    "\n",
    "# print(type(pgrr))    #  <class 'bs4.element.ResultSet'>\n",
    "# print(type(pgrr[0]))    #  <class 'bs4.element.Tag'>\n"
   ]
  },
  {
   "cell_type": "markdown",
   "metadata": {},
   "source": [
    "## CSS selector 에 대한 문서     \n",
    "- https://developer.mozilla.org/en-US/docs/Web/CSS/CSS_Selectors     \n",
    "- https://www.w3schools.com/cssref/css_selectors.asp     \n",
    "\n",
    "## bs4.select 와 find 사용했을때 차이점.    \n",
    "\n",
    "pgrr =  html.find('td',class_='pgRR')     \n",
    "print(type(pgrr))          #  <class 'bs4.element.Tag'>     \n",
    "\n",
    "pgrr =  html.select(\"td.pgRR>a\")     \n",
    "print(type(pgrr))       #  <class 'bs4.element.ResultSet'>     \n",
    "print(type(pgrr[0]))    #  <class 'bs4.element.Tag'>     "
   ]
  },
  {
   "cell_type": "code",
   "execution_count": 71,
   "metadata": {},
   "outputs": [],
   "source": [
    "df  = pd.DataFrame()\n",
    "\n",
    "url = 'https://finance.naver.com/item/sise_day.naver?code=068270'\n",
    "for  p in range(1,last_page+1) :\n",
    "    page_url = '{}&&page={}'.format(url,p)\n",
    "    doc = requests.get(page_url,headers={'User-agent':'Mozilla/5.0'})\n",
    "    df = df.append(pd.read_html(doc.text,header=0)[0])\n",
    "df = df.dropna()"
   ]
  },
  {
   "cell_type": "code",
   "execution_count": 72,
   "metadata": {},
   "outputs": [
    {
     "data": {
      "text/html": [
       "<div>\n",
       "<style scoped>\n",
       "    .dataframe tbody tr th:only-of-type {\n",
       "        vertical-align: middle;\n",
       "    }\n",
       "\n",
       "    .dataframe tbody tr th {\n",
       "        vertical-align: top;\n",
       "    }\n",
       "\n",
       "    .dataframe thead th {\n",
       "        text-align: right;\n",
       "    }\n",
       "</style>\n",
       "<table border=\"1\" class=\"dataframe\">\n",
       "  <thead>\n",
       "    <tr style=\"text-align: right;\">\n",
       "      <th></th>\n",
       "      <th>날짜</th>\n",
       "      <th>종가</th>\n",
       "      <th>전일비</th>\n",
       "      <th>시가</th>\n",
       "      <th>고가</th>\n",
       "      <th>저가</th>\n",
       "      <th>거래량</th>\n",
       "    </tr>\n",
       "  </thead>\n",
       "  <tbody>\n",
       "    <tr>\n",
       "      <th>10</th>\n",
       "      <td>2005.07.25</td>\n",
       "      <td>5650.0</td>\n",
       "      <td>70.0</td>\n",
       "      <td>5500.0</td>\n",
       "      <td>5950.0</td>\n",
       "      <td>5500.0</td>\n",
       "      <td>61036.0</td>\n",
       "    </tr>\n",
       "    <tr>\n",
       "      <th>11</th>\n",
       "      <td>2005.07.22</td>\n",
       "      <td>5580.0</td>\n",
       "      <td>160.0</td>\n",
       "      <td>5850.0</td>\n",
       "      <td>5850.0</td>\n",
       "      <td>5530.0</td>\n",
       "      <td>69921.0</td>\n",
       "    </tr>\n",
       "    <tr>\n",
       "      <th>12</th>\n",
       "      <td>2005.07.21</td>\n",
       "      <td>5740.0</td>\n",
       "      <td>810.0</td>\n",
       "      <td>6450.0</td>\n",
       "      <td>6580.0</td>\n",
       "      <td>5730.0</td>\n",
       "      <td>182685.0</td>\n",
       "    </tr>\n",
       "    <tr>\n",
       "      <th>13</th>\n",
       "      <td>2005.07.20</td>\n",
       "      <td>6550.0</td>\n",
       "      <td>1150.0</td>\n",
       "      <td>7690.0</td>\n",
       "      <td>7690.0</td>\n",
       "      <td>6550.0</td>\n",
       "      <td>422688.0</td>\n",
       "    </tr>\n",
       "    <tr>\n",
       "      <th>1</th>\n",
       "      <td>2005.07.19</td>\n",
       "      <td>7700.0</td>\n",
       "      <td>2500.0</td>\n",
       "      <td>6700.0</td>\n",
       "      <td>7700.0</td>\n",
       "      <td>6510.0</td>\n",
       "      <td>499088.0</td>\n",
       "    </tr>\n",
       "  </tbody>\n",
       "</table>\n",
       "</div>"
      ],
      "text/plain": [
       "            날짜      종가     전일비      시가      고가      저가       거래량\n",
       "10  2005.07.25  5650.0    70.0  5500.0  5950.0  5500.0   61036.0\n",
       "11  2005.07.22  5580.0   160.0  5850.0  5850.0  5530.0   69921.0\n",
       "12  2005.07.21  5740.0   810.0  6450.0  6580.0  5730.0  182685.0\n",
       "13  2005.07.20  6550.0  1150.0  7690.0  7690.0  6550.0  422688.0\n",
       "1   2005.07.19  7700.0  2500.0  6700.0  7700.0  6510.0  499088.0"
      ]
     },
     "execution_count": 72,
     "metadata": {},
     "output_type": "execute_result"
    }
   ],
   "source": [
    "df.tail()"
   ]
  },
  {
   "cell_type": "code",
   "execution_count": null,
   "metadata": {},
   "outputs": [],
   "source": []
  }
 ],
 "metadata": {
  "interpreter": {
   "hash": "916dbcbb3f70747c44a77c7bcd40155683ae19c65e1c03b4aa3499c5328201f1"
  },
  "kernelspec": {
   "display_name": "Python 3.8.10 64-bit",
   "name": "python3"
  },
  "language_info": {
   "codemirror_mode": {
    "name": "ipython",
    "version": 3
   },
   "file_extension": ".py",
   "mimetype": "text/x-python",
   "name": "python",
   "nbconvert_exporter": "python",
   "pygments_lexer": "ipython3",
   "version": "3.8.10"
  },
  "orig_nbformat": 4
 },
 "nbformat": 4,
 "nbformat_minor": 2
}
