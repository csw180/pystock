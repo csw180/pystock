{
 "cells": [
  {
   "cell_type": "markdown",
   "metadata": {},
   "source": [
    "# 야휴에서 삼성전자와 MS의 주가를 가져와서 한챠트에 누적수익율을 표시한다\n",
    "- DataReader 를 통하여 주가 가져오는 방법\n",
    "- Series 의 연산을 통하여 새로운 Series를 생성하고 챠트로 그려낸다.\n",
    "- Series 의 shift, cumsum 메서드의 기능\n",
    "- matplotlib 의 챠트에서 한글 안깨지게, 마이너스(-) 부호 표시 되게 하는 방법등."
   ]
  },
  {
   "cell_type": "code",
   "execution_count": 2,
   "metadata": {},
   "outputs": [
    {
     "data": {
      "text/html": [
       "<div>\n",
       "<style scoped>\n",
       "    .dataframe tbody tr th:only-of-type {\n",
       "        vertical-align: middle;\n",
       "    }\n",
       "\n",
       "    .dataframe tbody tr th {\n",
       "        vertical-align: top;\n",
       "    }\n",
       "\n",
       "    .dataframe thead th {\n",
       "        text-align: right;\n",
       "    }\n",
       "</style>\n",
       "<table border=\"1\" class=\"dataframe\">\n",
       "  <thead>\n",
       "    <tr style=\"text-align: right;\">\n",
       "      <th></th>\n",
       "      <th>High</th>\n",
       "      <th>Low</th>\n",
       "      <th>Open</th>\n",
       "      <th>Close</th>\n",
       "      <th>Volume</th>\n",
       "      <th>Adj Close</th>\n",
       "    </tr>\n",
       "    <tr>\n",
       "      <th>Date</th>\n",
       "      <th></th>\n",
       "      <th></th>\n",
       "      <th></th>\n",
       "      <th></th>\n",
       "      <th></th>\n",
       "      <th></th>\n",
       "    </tr>\n",
       "  </thead>\n",
       "  <tbody>\n",
       "    <tr>\n",
       "      <th>2021-10-25</th>\n",
       "      <td>70600.0</td>\n",
       "      <td>69500.0</td>\n",
       "      <td>69900.0</td>\n",
       "      <td>70200.0</td>\n",
       "      <td>10029621.0</td>\n",
       "      <td>70200.0</td>\n",
       "    </tr>\n",
       "    <tr>\n",
       "      <th>2021-10-26</th>\n",
       "      <td>71500.0</td>\n",
       "      <td>70400.0</td>\n",
       "      <td>70600.0</td>\n",
       "      <td>71100.0</td>\n",
       "      <td>10528252.0</td>\n",
       "      <td>71100.0</td>\n",
       "    </tr>\n",
       "    <tr>\n",
       "      <th>2021-10-27</th>\n",
       "      <td>71000.0</td>\n",
       "      <td>70000.0</td>\n",
       "      <td>71000.0</td>\n",
       "      <td>70100.0</td>\n",
       "      <td>10295316.0</td>\n",
       "      <td>70100.0</td>\n",
       "    </tr>\n",
       "    <tr>\n",
       "      <th>2021-10-28</th>\n",
       "      <td>72200.0</td>\n",
       "      <td>69500.0</td>\n",
       "      <td>69500.0</td>\n",
       "      <td>70700.0</td>\n",
       "      <td>20644902.0</td>\n",
       "      <td>70700.0</td>\n",
       "    </tr>\n",
       "    <tr>\n",
       "      <th>2021-10-29</th>\n",
       "      <td>71600.0</td>\n",
       "      <td>69700.0</td>\n",
       "      <td>71200.0</td>\n",
       "      <td>69800.0</td>\n",
       "      <td>17016151.0</td>\n",
       "      <td>69800.0</td>\n",
       "    </tr>\n",
       "  </tbody>\n",
       "</table>\n",
       "</div>"
      ],
      "text/plain": [
       "               High      Low     Open    Close      Volume  Adj Close\n",
       "Date                                                                 \n",
       "2021-10-25  70600.0  69500.0  69900.0  70200.0  10029621.0    70200.0\n",
       "2021-10-26  71500.0  70400.0  70600.0  71100.0  10528252.0    71100.0\n",
       "2021-10-27  71000.0  70000.0  71000.0  70100.0  10295316.0    70100.0\n",
       "2021-10-28  72200.0  69500.0  69500.0  70700.0  20644902.0    70700.0\n",
       "2021-10-29  71600.0  69700.0  71200.0  69800.0  17016151.0    69800.0"
      ]
     },
     "execution_count": 2,
     "metadata": {},
     "output_type": "execute_result"
    }
   ],
   "source": [
    "import pandas_datareader.data as web\n",
    "import pandas as pd\n",
    "df_sec = web.DataReader('005930.KS', 'yahoo', start='2021-04-01', end='2021-10-31')\n",
    "df_ms = web.DataReader('MSFT', 'yahoo', start='2021-04-01', end='2021-10-31')\n",
    "df_sec.tail()"
   ]
  },
  {
   "cell_type": "code",
   "execution_count": 3,
   "metadata": {},
   "outputs": [
    {
     "data": {
      "text/html": [
       "<div>\n",
       "<style scoped>\n",
       "    .dataframe tbody tr th:only-of-type {\n",
       "        vertical-align: middle;\n",
       "    }\n",
       "\n",
       "    .dataframe tbody tr th {\n",
       "        vertical-align: top;\n",
       "    }\n",
       "\n",
       "    .dataframe thead th {\n",
       "        text-align: right;\n",
       "    }\n",
       "</style>\n",
       "<table border=\"1\" class=\"dataframe\">\n",
       "  <thead>\n",
       "    <tr style=\"text-align: right;\">\n",
       "      <th></th>\n",
       "      <th>High</th>\n",
       "      <th>Low</th>\n",
       "      <th>Open</th>\n",
       "      <th>Close</th>\n",
       "      <th>Volume</th>\n",
       "      <th>Adj Close</th>\n",
       "    </tr>\n",
       "    <tr>\n",
       "      <th>Date</th>\n",
       "      <th></th>\n",
       "      <th></th>\n",
       "      <th></th>\n",
       "      <th></th>\n",
       "      <th></th>\n",
       "      <th></th>\n",
       "    </tr>\n",
       "  </thead>\n",
       "  <tbody>\n",
       "    <tr>\n",
       "      <th>2021-10-25</th>\n",
       "      <td>309.399994</td>\n",
       "      <td>306.459991</td>\n",
       "      <td>309.359985</td>\n",
       "      <td>308.130005</td>\n",
       "      <td>17554500.0</td>\n",
       "      <td>308.130005</td>\n",
       "    </tr>\n",
       "    <tr>\n",
       "      <th>2021-10-26</th>\n",
       "      <td>312.399994</td>\n",
       "      <td>308.600006</td>\n",
       "      <td>311.000000</td>\n",
       "      <td>310.109985</td>\n",
       "      <td>28107300.0</td>\n",
       "      <td>310.109985</td>\n",
       "    </tr>\n",
       "    <tr>\n",
       "      <th>2021-10-27</th>\n",
       "      <td>326.100006</td>\n",
       "      <td>316.000000</td>\n",
       "      <td>316.000000</td>\n",
       "      <td>323.170013</td>\n",
       "      <td>52588700.0</td>\n",
       "      <td>323.170013</td>\n",
       "    </tr>\n",
       "    <tr>\n",
       "      <th>2021-10-28</th>\n",
       "      <td>324.869995</td>\n",
       "      <td>321.359985</td>\n",
       "      <td>324.329987</td>\n",
       "      <td>324.350006</td>\n",
       "      <td>26297900.0</td>\n",
       "      <td>324.350006</td>\n",
       "    </tr>\n",
       "    <tr>\n",
       "      <th>2021-10-29</th>\n",
       "      <td>332.000000</td>\n",
       "      <td>323.899994</td>\n",
       "      <td>324.130005</td>\n",
       "      <td>331.619995</td>\n",
       "      <td>34744900.0</td>\n",
       "      <td>331.619995</td>\n",
       "    </tr>\n",
       "  </tbody>\n",
       "</table>\n",
       "</div>"
      ],
      "text/plain": [
       "                  High         Low        Open       Close      Volume  \\\n",
       "Date                                                                     \n",
       "2021-10-25  309.399994  306.459991  309.359985  308.130005  17554500.0   \n",
       "2021-10-26  312.399994  308.600006  311.000000  310.109985  28107300.0   \n",
       "2021-10-27  326.100006  316.000000  316.000000  323.170013  52588700.0   \n",
       "2021-10-28  324.869995  321.359985  324.329987  324.350006  26297900.0   \n",
       "2021-10-29  332.000000  323.899994  324.130005  331.619995  34744900.0   \n",
       "\n",
       "             Adj Close  \n",
       "Date                    \n",
       "2021-10-25  308.130005  \n",
       "2021-10-26  310.109985  \n",
       "2021-10-27  323.170013  \n",
       "2021-10-28  324.350006  \n",
       "2021-10-29  331.619995  "
      ]
     },
     "execution_count": 3,
     "metadata": {},
     "output_type": "execute_result"
    }
   ],
   "source": [
    "df_ms.tail()"
   ]
  },
  {
   "cell_type": "code",
   "execution_count": 8,
   "metadata": {},
   "outputs": [
    {
     "data": {
      "text/plain": [
       "Date\n",
       "2021-04-01        NaN\n",
       "2021-04-02    82900.0\n",
       "2021-04-05    84800.0\n",
       "2021-04-06    85400.0\n",
       "2021-04-07    86000.0\n",
       "               ...   \n",
       "2021-10-25    70400.0\n",
       "2021-10-26    70200.0\n",
       "2021-10-27    71100.0\n",
       "2021-10-28    70100.0\n",
       "2021-10-29    70700.0\n",
       "Name: Close, Length: 144, dtype: float64"
      ]
     },
     "execution_count": 8,
     "metadata": {},
     "output_type": "execute_result"
    }
   ],
   "source": [
    "df_sec['Close'].shift(1)"
   ]
  },
  {
   "cell_type": "code",
   "execution_count": 20,
   "metadata": {},
   "outputs": [],
   "source": [
    "df_sec_dpc = (df_sec['Close'] / df_sec['Close'].shift(1)  -1)*100\n",
    "df_sec_dpc_cs = df_sec_dpc.cumsum()"
   ]
  },
  {
   "cell_type": "code",
   "execution_count": 21,
   "metadata": {},
   "outputs": [],
   "source": [
    "df_ms_dpc = (df_ms['Close']/df_ms['Close'].shift(1)-1)* 100\n",
    "df_ms_dpc.iloc[0] = 0\n",
    "df_ms_dpc_cs = df_ms_dpc.cumsum()"
   ]
  },
  {
   "cell_type": "code",
   "execution_count": 36,
   "metadata": {},
   "outputs": [
    {
     "data": {
      "image/png": "[encoded data removed]",
      "text/plain": [
       "<Figure size 432x288 with 1 Axes>"
      ]
     },
     "metadata": {
      "needs_background": "light"
     },
     "output_type": "display_data"
    }
   ],
   "source": [
    "import matplotlib.pyplot as plt\n",
    "import matplotlib as mpl\n",
    "\n",
    "mpl.rcParams['axes.unicode_minus'] = False   # 마이너스 안깨지게 하는 기능\n",
    "plt.rc('font', family='NanumGothic')         # 한글 안깨지게 하는 방법\n",
    "plt.plot(df_sec.index, df_sec_dpc_cs,'b' ,label='삼성전자')\n",
    "plt.plot(df_ms.index, df_ms_dpc_cs,'r',label ='MS')\n",
    "plt.ylabel('Change(%)')\n",
    "plt.grid(True)\n",
    "plt.legend(loc= 'best')\n",
    "plt.show()\n",
    "\n"
   ]
  },
  {
   "cell_type": "code",
   "execution_count": null,
   "metadata": {},
   "outputs": [],
   "source": [
    "from matplotlib import font_manager as fm\n",
    "for font in fm.fontManager.ttflist:\n",
    "    # if 'Nanum' in font.name :\n",
    "    print(font.name,font.fname)"
   ]
  }
 ],
 "metadata": {
  "interpreter": {
   "hash": "916dbcbb3f70747c44a77c7bcd40155683ae19c65e1c03b4aa3499c5328201f1"
  },
  "kernelspec": {
   "display_name": "Python 3.8.10 64-bit",
   "name": "python3"
  },
  "language_info": {
   "codemirror_mode": {
    "name": "ipython",
    "version": 3
   },
   "file_extension": ".py",
   "mimetype": "text/x-python",
   "name": "python",
   "nbconvert_exporter": "python",
   "pygments_lexer": "ipython3",
   "version": "3.8.10"
  },
  "orig_nbformat": 4
 },
 "nbformat": 4,
 "nbformat_minor": 2
}
