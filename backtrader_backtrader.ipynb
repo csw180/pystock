{
 "cells": [
  {
   "cell_type": "markdown",
   "metadata": {},
   "source": [
    "```\n",
    "```"
   ]
  },
  {
   "attachments": {},
   "cell_type": "markdown",
   "metadata": {},
   "source": [
    "### backtrader 를 이용한 백테스팅 ###\n",
    "---------------------------------------------------"
   ]
  },
  {
   "attachments": {},
   "cell_type": "markdown",
   "metadata": {},
   "source": [
    "!pip install backtrader\n",
    "backtrader         1.9.76.123"
   ]
  },
  {
   "cell_type": "code",
   "execution_count": 1,
   "metadata": {},
   "outputs": [],
   "source": [
    "import mariadb\n",
    "import pandas   as pd\n",
    "from datetime import datetime"
   ]
  },
  {
   "attachments": {},
   "cell_type": "markdown",
   "metadata": {},
   "source": [
    ">> 종목 리스트 가져오기"
   ]
  },
  {
   "cell_type": "code",
   "execution_count": 3,
   "metadata": {},
   "outputs": [
    {
     "data": {
      "text/html": [
       "<div>\n",
       "<style scoped>\n",
       "    .dataframe tbody tr th:only-of-type {\n",
       "        vertical-align: middle;\n",
       "    }\n",
       "\n",
       "    .dataframe tbody tr th {\n",
       "        vertical-align: top;\n",
       "    }\n",
       "\n",
       "    .dataframe thead th {\n",
       "        text-align: right;\n",
       "    }\n",
       "</style>\n",
       "<table border=\"1\" class=\"dataframe\">\n",
       "  <thead>\n",
       "    <tr style=\"text-align: right;\">\n",
       "      <th></th>\n",
       "      <th>open</th>\n",
       "      <th>high</th>\n",
       "      <th>low</th>\n",
       "      <th>close</th>\n",
       "      <th>volume</th>\n",
       "    </tr>\n",
       "    <tr>\n",
       "      <th>date</th>\n",
       "      <th></th>\n",
       "      <th></th>\n",
       "      <th></th>\n",
       "      <th></th>\n",
       "      <th></th>\n",
       "    </tr>\n",
       "  </thead>\n",
       "  <tbody>\n",
       "    <tr>\n",
       "      <th>2022-01-03</th>\n",
       "      <td>18850</td>\n",
       "      <td>18900</td>\n",
       "      <td>18600</td>\n",
       "      <td>18800</td>\n",
       "      <td>8954</td>\n",
       "    </tr>\n",
       "    <tr>\n",
       "      <th>2022-01-04</th>\n",
       "      <td>18850</td>\n",
       "      <td>18850</td>\n",
       "      <td>18600</td>\n",
       "      <td>18600</td>\n",
       "      <td>8138</td>\n",
       "    </tr>\n",
       "    <tr>\n",
       "      <th>2022-01-05</th>\n",
       "      <td>18750</td>\n",
       "      <td>18750</td>\n",
       "      <td>18450</td>\n",
       "      <td>18450</td>\n",
       "      <td>7794</td>\n",
       "    </tr>\n",
       "    <tr>\n",
       "      <th>2022-01-06</th>\n",
       "      <td>18200</td>\n",
       "      <td>18500</td>\n",
       "      <td>18000</td>\n",
       "      <td>18050</td>\n",
       "      <td>12756</td>\n",
       "    </tr>\n",
       "    <tr>\n",
       "      <th>2022-01-07</th>\n",
       "      <td>18050</td>\n",
       "      <td>18550</td>\n",
       "      <td>18050</td>\n",
       "      <td>18450</td>\n",
       "      <td>8534</td>\n",
       "    </tr>\n",
       "  </tbody>\n",
       "</table>\n",
       "</div>"
      ],
      "text/plain": [
       "             open   high    low  close  volume\n",
       "date                                          \n",
       "2022-01-03  18850  18900  18600  18800    8954\n",
       "2022-01-04  18850  18850  18600  18600    8138\n",
       "2022-01-05  18750  18750  18450  18450    7794\n",
       "2022-01-06  18200  18500  18000  18050   12756\n",
       "2022-01-07  18050  18550  18050  18450    8534"
      ]
     },
     "execution_count": 3,
     "metadata": {},
     "output_type": "execute_result"
    }
   ],
   "source": [
    "try:\n",
    "    conn = mariadb.connect(\n",
    "        user=\"root\",\n",
    "        password=\"123\",\n",
    "        host=\"localhost\",\n",
    "        port=3306,\n",
    "        database=\"home\"\n",
    "    )\n",
    "except mariadb.Error as e:\n",
    "    print(f\"Error connecting to MariaDB Platform: {e}\")\n",
    "\n",
    "cursor = conn.cursor()\n",
    "cursor.execute(\"select * from daily_price where  CODE = ?\",[('100840')])\n",
    "data = cursor.fetchall()\n",
    "desc = list(map(lambda x : x[0],cursor.description))\n",
    "conn.close()\n",
    "\n",
    "df =  pd.DataFrame(data=data, columns=desc)\n",
    "df['date'] = pd.to_datetime(df['date'], format='%Y%m%d', errors='raise')\n",
    "df = df.set_index(df['date'],drop=True)\n",
    "df = df.drop(columns=['code','date','chg'])\n",
    "df.head(5)"
   ]
  },
  {
   "attachments": {},
   "cell_type": "markdown",
   "metadata": {},
   "source": [
    "[backtrader docu]https://www.backtrader.com/docu/"
   ]
  },
  {
   "cell_type": "code",
   "execution_count": 4,
   "metadata": {},
   "outputs": [],
   "source": [
    "import backtrader as bt"
   ]
  },
  {
   "cell_type": "code",
   "execution_count": 7,
   "metadata": {},
   "outputs": [
    {
     "name": "stdout",
     "output_type": "stream",
     "text": [
      "Starting Portfolio Value: 20000000.00\n",
      "2022-01-28T00:00:00, BUY CREATE 16337.79\n",
      "1224 EA\n",
      "2022-04-07T00:00:00, BUY CREATE 18369.11\n",
      "1088 EA\n",
      "2022-04-08T00:00:00, SELL CREATE 18950.0\n",
      "1088 EA\n",
      "2022-04-11T00:00:00, BUY CREATE 18215.87\n",
      "1094 EA\n",
      "2022-04-12T00:00:00, SELL CREATE 18875.0\n",
      "1094 EA\n",
      "2022-04-28T00:00:00, BUY CREATE 17717.79\n",
      "1121 EA\n",
      "2022-06-09T00:00:00, BUY CREATE 18414.27\n",
      "1079 EA\n",
      "2022-06-10T00:00:00, BUY CREATE 18316.85\n",
      "1085 EA\n",
      "2022-06-13T00:00:00, SELL CREATE 18927.5\n",
      "1085 EA\n",
      "2022-06-14T00:00:00, BUY CREATE 17904.69\n",
      "1091 EA\n",
      "2022-06-15T00:00:00, SELL CREATE 18745.0\n",
      "1091 EA\n",
      "2022-06-16T00:00:00, BUY CREATE 17028.12\n",
      "1122 EA\n",
      "2022-06-17T00:00:00, BUY CREATE 16697.22\n",
      "1144 EA\n",
      "2022-06-20T00:00:00, SELL CREATE 18317.5\n",
      "1144 EA\n",
      "2022-06-21T00:00:00, BUY CREATE 15873.00\n",
      "1138 EA\n",
      "2022-06-22T00:00:00, SELL CREATE 17927.5\n",
      "1138 EA\n",
      "2022-06-23T00:00:00, BUY CREATE 14778.35\n",
      "1180 EA\n",
      "2022-09-26T00:00:00, BUY CREATE 17339.95\n",
      "1005 EA\n",
      "2022-09-27T00:00:00, SELL CREATE 21040.0\n",
      "1005 EA\n",
      "2023-01-02T00:00:00, BUY CREATE 18033.82\n",
      "961 EA\n",
      "2023-01-03T00:00:00, SELL CREATE 19760.0\n",
      "961 EA\n",
      "2023-01-04T00:00:00, BUY CREATE 17750.54\n",
      "976 EA\n",
      "Final Portfolio Value: 17328659.08\n"
     ]
    },
    {
     "ename": "AttributeError",
     "evalue": "'RRuleLocator' object has no attribute 'set_view_interval'",
     "output_type": "error",
     "traceback": [
      "\u001b[1;31m---------------------------------------------------------------------------\u001b[0m",
      "\u001b[1;31mAttributeError\u001b[0m                            Traceback (most recent call last)",
      "Cell \u001b[1;32mIn[7], line 39\u001b[0m\n\u001b[0;32m     37\u001b[0m cerebro\u001b[39m.\u001b[39mrun()\n\u001b[0;32m     38\u001b[0m \u001b[39mprint\u001b[39m(\u001b[39mf\u001b[39m\u001b[39m'\u001b[39m\u001b[39mFinal Portfolio Value: \u001b[39m\u001b[39m{\u001b[39;00mcerebro\u001b[39m.\u001b[39mbroker\u001b[39m.\u001b[39mgetvalue()\u001b[39m:\u001b[39;00m\u001b[39m.2f\u001b[39m\u001b[39m}\u001b[39;00m\u001b[39m'\u001b[39m)\n\u001b[1;32m---> 39\u001b[0m cerebro\u001b[39m.\u001b[39;49mplot(style\u001b[39m=\u001b[39;49m\u001b[39m'\u001b[39;49m\u001b[39mcandle\u001b[39;49m\u001b[39m'\u001b[39;49m, barup\u001b[39m=\u001b[39;49m\u001b[39m'\u001b[39;49m\u001b[39mred\u001b[39;49m\u001b[39m'\u001b[39;49m, bardown\u001b[39m=\u001b[39;49m\u001b[39m'\u001b[39;49m\u001b[39mblue\u001b[39;49m\u001b[39m'\u001b[39;49m, volumn\u001b[39m=\u001b[39;49m\u001b[39mFalse\u001b[39;49;00m)[\u001b[39m0\u001b[39m][\u001b[39m0\u001b[39m]\u001b[39m.\u001b[39msavefig(\u001b[39m'\u001b[39m\u001b[39mplot.png\u001b[39m\u001b[39m'\u001b[39m, dpi\u001b[39m=\u001b[39m\u001b[39m100\u001b[39m)\n",
      "File \u001b[1;32mc:\\Python311\\Lib\\site-packages\\backtrader\\cerebro.py:989\u001b[0m, in \u001b[0;36mCerebro.plot\u001b[1;34m(self, plotter, numfigs, iplot, start, end, width, height, dpi, tight, use, **kwargs)\u001b[0m\n\u001b[0;32m    987\u001b[0m \u001b[39mfor\u001b[39;00m stratlist \u001b[39min\u001b[39;00m \u001b[39mself\u001b[39m\u001b[39m.\u001b[39mrunstrats:\n\u001b[0;32m    988\u001b[0m     \u001b[39mfor\u001b[39;00m si, strat \u001b[39min\u001b[39;00m \u001b[39menumerate\u001b[39m(stratlist):\n\u001b[1;32m--> 989\u001b[0m         rfig \u001b[39m=\u001b[39m plotter\u001b[39m.\u001b[39;49mplot(strat, figid\u001b[39m=\u001b[39;49msi \u001b[39m*\u001b[39;49m \u001b[39m100\u001b[39;49m,\n\u001b[0;32m    990\u001b[0m                             numfigs\u001b[39m=\u001b[39;49mnumfigs, iplot\u001b[39m=\u001b[39;49miplot,\n\u001b[0;32m    991\u001b[0m                             start\u001b[39m=\u001b[39;49mstart, end\u001b[39m=\u001b[39;49mend, use\u001b[39m=\u001b[39;49muse)\n\u001b[0;32m    992\u001b[0m         \u001b[39m# pfillers=pfillers2)\u001b[39;00m\n\u001b[0;32m    994\u001b[0m         figs\u001b[39m.\u001b[39mappend(rfig)\n",
      "File \u001b[1;32mc:\\Python311\\Lib\\site-packages\\backtrader\\plot\\plot.py:262\u001b[0m, in \u001b[0;36mPlot_OldSync.plot\u001b[1;34m(self, strategy, figid, numfigs, iplot, start, end, **kwargs)\u001b[0m\n\u001b[0;32m    257\u001b[0m \u001b[39m# Applying fig.autofmt_xdate if the data axis is the last one\u001b[39;00m\n\u001b[0;32m    258\u001b[0m \u001b[39m# breaks the presentation of the date labels. why?\u001b[39;00m\n\u001b[0;32m    259\u001b[0m \u001b[39m# Applying the manual rotation with setp cures the problem\u001b[39;00m\n\u001b[0;32m    260\u001b[0m \u001b[39m# but the labels from all axis but the last have to be hidden\u001b[39;00m\n\u001b[0;32m    261\u001b[0m \u001b[39mfor\u001b[39;00m ax \u001b[39min\u001b[39;00m laxis:\n\u001b[1;32m--> 262\u001b[0m     \u001b[39mself\u001b[39m\u001b[39m.\u001b[39mmpyplot\u001b[39m.\u001b[39msetp(ax\u001b[39m.\u001b[39;49mget_xticklabels(), visible\u001b[39m=\u001b[39m\u001b[39mFalse\u001b[39;00m)\n\u001b[0;32m    264\u001b[0m \u001b[39mself\u001b[39m\u001b[39m.\u001b[39mmpyplot\u001b[39m.\u001b[39msetp(lastax\u001b[39m.\u001b[39mget_xticklabels(), visible\u001b[39m=\u001b[39m\u001b[39mTrue\u001b[39;00m,\n\u001b[0;32m    265\u001b[0m                   rotation\u001b[39m=\u001b[39m\u001b[39mself\u001b[39m\u001b[39m.\u001b[39mpinf\u001b[39m.\u001b[39msch\u001b[39m.\u001b[39mtickrotation)\n\u001b[0;32m    267\u001b[0m \u001b[39m# Things must be tight along the x axis (to fill both ends)\u001b[39;00m\n",
      "File \u001b[1;32mc:\\Python311\\Lib\\site-packages\\matplotlib\\axes\\_base.py:74\u001b[0m, in \u001b[0;36m_axis_method_wrapper.__set_name__.<locals>.wrapper\u001b[1;34m(self, *args, **kwargs)\u001b[0m\n\u001b[0;32m     73\u001b[0m \u001b[39mdef\u001b[39;00m \u001b[39mwrapper\u001b[39m(\u001b[39mself\u001b[39m, \u001b[39m*\u001b[39margs, \u001b[39m*\u001b[39m\u001b[39m*\u001b[39mkwargs):\n\u001b[1;32m---> 74\u001b[0m     \u001b[39mreturn\u001b[39;00m get_method(\u001b[39mself\u001b[39;49m)(\u001b[39m*\u001b[39;49margs, \u001b[39m*\u001b[39;49m\u001b[39m*\u001b[39;49mkwargs)\n",
      "File \u001b[1;32mc:\\Python311\\Lib\\site-packages\\matplotlib\\axis.py:1451\u001b[0m, in \u001b[0;36mAxis.get_ticklabels\u001b[1;34m(self, minor, which)\u001b[0m\n\u001b[0;32m   1449\u001b[0m \u001b[39mif\u001b[39;00m minor:\n\u001b[0;32m   1450\u001b[0m     \u001b[39mreturn\u001b[39;00m \u001b[39mself\u001b[39m\u001b[39m.\u001b[39mget_minorticklabels()\n\u001b[1;32m-> 1451\u001b[0m \u001b[39mreturn\u001b[39;00m \u001b[39mself\u001b[39;49m\u001b[39m.\u001b[39;49mget_majorticklabels()\n",
      "File \u001b[1;32mc:\\Python311\\Lib\\site-packages\\matplotlib\\axis.py:1408\u001b[0m, in \u001b[0;36mAxis.get_majorticklabels\u001b[1;34m(self)\u001b[0m\n\u001b[0;32m   1406\u001b[0m \u001b[39mdef\u001b[39;00m \u001b[39mget_majorticklabels\u001b[39m(\u001b[39mself\u001b[39m):\n\u001b[0;32m   1407\u001b[0m \u001b[39m    \u001b[39m\u001b[39m\"\"\"Return this Axis' major tick labels, as a list of `~.text.Text`.\"\"\"\u001b[39;00m\n\u001b[1;32m-> 1408\u001b[0m     \u001b[39mself\u001b[39;49m\u001b[39m.\u001b[39;49m_update_ticks()\n\u001b[0;32m   1409\u001b[0m     ticks \u001b[39m=\u001b[39m \u001b[39mself\u001b[39m\u001b[39m.\u001b[39mget_major_ticks()\n\u001b[0;32m   1410\u001b[0m     labels1 \u001b[39m=\u001b[39m [tick\u001b[39m.\u001b[39mlabel1 \u001b[39mfor\u001b[39;00m tick \u001b[39min\u001b[39;00m ticks \u001b[39mif\u001b[39;00m tick\u001b[39m.\u001b[39mlabel1\u001b[39m.\u001b[39mget_visible()]\n",
      "File \u001b[1;32mc:\\Python311\\Lib\\site-packages\\matplotlib\\axis.py:1257\u001b[0m, in \u001b[0;36mAxis._update_ticks\u001b[1;34m(self)\u001b[0m\n\u001b[0;32m   1252\u001b[0m \u001b[39mdef\u001b[39;00m \u001b[39m_update_ticks\u001b[39m(\u001b[39mself\u001b[39m):\n\u001b[0;32m   1253\u001b[0m \u001b[39m    \u001b[39m\u001b[39m\"\"\"\u001b[39;00m\n\u001b[0;32m   1254\u001b[0m \u001b[39m    Update ticks (position and labels) using the current data interval of\u001b[39;00m\n\u001b[0;32m   1255\u001b[0m \u001b[39m    the axes.  Return the list of ticks that will be drawn.\u001b[39;00m\n\u001b[0;32m   1256\u001b[0m \u001b[39m    \"\"\"\u001b[39;00m\n\u001b[1;32m-> 1257\u001b[0m     major_locs \u001b[39m=\u001b[39m \u001b[39mself\u001b[39;49m\u001b[39m.\u001b[39;49mget_majorticklocs()\n\u001b[0;32m   1258\u001b[0m     major_labels \u001b[39m=\u001b[39m \u001b[39mself\u001b[39m\u001b[39m.\u001b[39mmajor\u001b[39m.\u001b[39mformatter\u001b[39m.\u001b[39mformat_ticks(major_locs)\n\u001b[0;32m   1259\u001b[0m     major_ticks \u001b[39m=\u001b[39m \u001b[39mself\u001b[39m\u001b[39m.\u001b[39mget_major_ticks(\u001b[39mlen\u001b[39m(major_locs))\n",
      "File \u001b[1;32mc:\\Python311\\Lib\\site-packages\\matplotlib\\axis.py:1479\u001b[0m, in \u001b[0;36mAxis.get_majorticklocs\u001b[1;34m(self)\u001b[0m\n\u001b[0;32m   1477\u001b[0m \u001b[39mdef\u001b[39;00m \u001b[39mget_majorticklocs\u001b[39m(\u001b[39mself\u001b[39m):\n\u001b[0;32m   1478\u001b[0m \u001b[39m    \u001b[39m\u001b[39m\"\"\"Return this Axis' major tick locations in data coordinates.\"\"\"\u001b[39;00m\n\u001b[1;32m-> 1479\u001b[0m     \u001b[39mreturn\u001b[39;00m \u001b[39mself\u001b[39;49m\u001b[39m.\u001b[39;49mmajor\u001b[39m.\u001b[39;49mlocator()\n",
      "File \u001b[1;32mc:\\Python311\\Lib\\site-packages\\matplotlib\\dates.py:1378\u001b[0m, in \u001b[0;36mAutoDateLocator.__call__\u001b[1;34m(self)\u001b[0m\n\u001b[0;32m   1375\u001b[0m \u001b[39mdef\u001b[39;00m \u001b[39m__call__\u001b[39m(\u001b[39mself\u001b[39m):\n\u001b[0;32m   1376\u001b[0m     \u001b[39m# docstring inherited\u001b[39;00m\n\u001b[0;32m   1377\u001b[0m     dmin, dmax \u001b[39m=\u001b[39m \u001b[39mself\u001b[39m\u001b[39m.\u001b[39mviewlim_to_dt()\n\u001b[1;32m-> 1378\u001b[0m     locator \u001b[39m=\u001b[39m \u001b[39mself\u001b[39;49m\u001b[39m.\u001b[39;49mget_locator(dmin, dmax)\n\u001b[0;32m   1379\u001b[0m     \u001b[39mreturn\u001b[39;00m locator()\n",
      "File \u001b[1;32mc:\\Python311\\Lib\\site-packages\\backtrader\\plot\\locator.py:225\u001b[0m, in \u001b[0;36mAutoDateLocator.get_locator\u001b[1;34m(self, dmin, dmax)\u001b[0m\n\u001b[0;32m    221\u001b[0m     locator \u001b[39m=\u001b[39m MicrosecondLocator(interval, tz\u001b[39m=\u001b[39m\u001b[39mself\u001b[39m\u001b[39m.\u001b[39mtz)\n\u001b[0;32m    223\u001b[0m locator\u001b[39m.\u001b[39mset_axis(\u001b[39mself\u001b[39m\u001b[39m.\u001b[39maxis)\n\u001b[1;32m--> 225\u001b[0m locator\u001b[39m.\u001b[39;49mset_view_interval(\u001b[39m*\u001b[39m\u001b[39mself\u001b[39m\u001b[39m.\u001b[39maxis\u001b[39m.\u001b[39mget_view_interval())\n\u001b[0;32m    226\u001b[0m locator\u001b[39m.\u001b[39mset_data_interval(\u001b[39m*\u001b[39m\u001b[39mself\u001b[39m\u001b[39m.\u001b[39maxis\u001b[39m.\u001b[39mget_data_interval())\n\u001b[0;32m    227\u001b[0m \u001b[39mreturn\u001b[39;00m locator\n",
      "\u001b[1;31mAttributeError\u001b[0m: 'RRuleLocator' object has no attribute 'set_view_interval'"
     ]
    }
   ],
   "source": [
    "class MyStrategy(bt.Strategy) :\n",
    "    params = (\n",
    "        ('period',20),\n",
    "        ('devfactor',2),\n",
    "        ('debug',False)\n",
    "    )\n",
    "    def log(self, txt, dt=None) :\n",
    "        dt = dt or self.data.datetime[0]\n",
    "        if isinstance(dt, float) :\n",
    "            df = bt.num2date(dt)\n",
    "        print(f'{df.isoformat()}, {txt}')\n",
    "\n",
    "    def  __init__(self) :\n",
    "        self.bol1 = bt.ind.BollingerBands(period=self.p.period,devfactor=self.p.devfactor, plot=True)\n",
    "    def next(self) :\n",
    "        global size\n",
    "        if not self.position :\n",
    "            if self.data.low[0] < self.bol1.lines.bot[0] :\n",
    "                bottom = self.bol1.lines.bot[0]\n",
    "                size = int(self.broker.getcash() /bottom)\n",
    "                self.buy(price=bottom, size = size)\n",
    "                self.log(f'BUY CREATE {bottom:.2f}')\n",
    "                print(size, 'EA')\n",
    "        else :\n",
    "            if self.data.high[0] < self.bol1.lines.mid[0] :\n",
    "                self.sell(price=self.bol1.lines.mid[0], size=size)\n",
    "                self.log(f'SELL CREATE {self.bol1.lines.mid[0]}')\n",
    "                print(size, 'EA')\n",
    "\n",
    "cerebro = bt.Cerebro()\n",
    "cerebro.addstrategy(MyStrategy)\n",
    "data = bt.feeds.PandasData(dataname=df)\n",
    "cerebro.adddata(data)\n",
    "cerebro.broker.setcash(20000000)\n",
    "cerebro.broker.setcommission(0.00015)\n",
    "print(f'Starting Portfolio Value: {cerebro.broker.getvalue():.2f}')\n",
    "cerebro.run()\n",
    "print(f'Final Portfolio Value: {cerebro.broker.getvalue():.2f}')\n",
    "cerebro.plot(style='candle', barup='red', bardown='blue', volumn=False)[0][0]\n"
   ]
  }
 ],
 "metadata": {
  "kernelspec": {
   "display_name": "Python 3",
   "language": "python",
   "name": "python3"
  },
  "language_info": {
   "codemirror_mode": {
    "name": "ipython",
    "version": 3
   },
   "file_extension": ".py",
   "mimetype": "text/x-python",
   "name": "python",
   "nbconvert_exporter": "python",
   "pygments_lexer": "ipython3",
   "version": "3.11.1"
  },
  "orig_nbformat": 4,
  "vscode": {
   "interpreter": {
    "hash": "c261aea317cc0286b3b3261fbba9abdec21eaa57589985bb7a274bf54d6cc0a7"
   }
  }
 },
 "nbformat": 4,
 "nbformat_minor": 2
}
