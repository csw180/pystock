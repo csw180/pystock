{
 "cells": [
  {
   "cell_type": "markdown",
   "metadata": {},
   "source": [
    "```\n",
    "```"
   ]
  },
  {
   "attachments": {},
   "cell_type": "markdown",
   "metadata": {},
   "source": [
    "### backtesting 를 이용한 백테스팅 ###\n",
    "---------------------------------------------------"
   ]
  },
  {
   "cell_type": "code",
   "execution_count": 1,
   "metadata": {},
   "outputs": [
    {
     "name": "stdout",
     "output_type": "stream",
     "text": [
      "Collecting backtesting\n",
      "  Downloading Backtesting-0.3.3.tar.gz (175 kB)\n",
      "     ---------------------------------------- 0.0/175.5 kB ? eta -:--:--\n",
      "     -------------------------------------- 175.5/175.5 kB 5.3 MB/s eta 0:00:00\n",
      "  Preparing metadata (setup.py): started\n",
      "  Preparing metadata (setup.py): finished with status 'done'\n",
      "Requirement already satisfied: numpy>=1.17.0 in c:\\python311\\lib\\site-packages (from backtesting) (1.24.1)\n",
      "Requirement already satisfied: pandas!=0.25.0,>=0.25.0 in c:\\python311\\lib\\site-packages (from backtesting) (1.5.3)\n",
      "Collecting bokeh>=1.4.0\n",
      "  Using cached bokeh-3.0.3-py3-none-any.whl (16.5 MB)\n",
      "Collecting Jinja2>=2.9\n",
      "  Using cached Jinja2-3.1.2-py3-none-any.whl (133 kB)\n",
      "Requirement already satisfied: contourpy>=1 in c:\\python311\\lib\\site-packages (from bokeh>=1.4.0->backtesting) (1.0.7)\n",
      "Requirement already satisfied: packaging>=16.8 in c:\\users\\swkao\\appdata\\roaming\\python\\python311\\site-packages (from bokeh>=1.4.0->backtesting) (23.0)\n",
      "Requirement already satisfied: pillow>=7.1.0 in c:\\python311\\lib\\site-packages (from bokeh>=1.4.0->backtesting) (9.4.0)\n",
      "Collecting PyYAML>=3.10\n",
      "  Using cached PyYAML-6.0-cp311-cp311-win_amd64.whl (143 kB)\n",
      "Requirement already satisfied: tornado>=5.1 in c:\\users\\swkao\\appdata\\roaming\\python\\python311\\site-packages (from bokeh>=1.4.0->backtesting) (6.2)\n",
      "Collecting xyzservices>=2021.09.1\n",
      "  Downloading xyzservices-2023.2.0-py3-none-any.whl (55 kB)\n",
      "     ---------------------------------------- 0.0/55.4 kB ? eta -:--:--\n",
      "     ---------------------------------------- 55.4/55.4 kB ? eta 0:00:00\n",
      "Requirement already satisfied: python-dateutil>=2.8.1 in c:\\users\\swkao\\appdata\\roaming\\python\\python311\\site-packages (from pandas!=0.25.0,>=0.25.0->backtesting) (2.8.2)\n",
      "Requirement already satisfied: pytz>=2020.1 in c:\\python311\\lib\\site-packages (from pandas!=0.25.0,>=0.25.0->backtesting) (2022.7.1)\n",
      "Collecting MarkupSafe>=2.0\n",
      "  Downloading MarkupSafe-2.1.2-cp311-cp311-win_amd64.whl (16 kB)\n",
      "Requirement already satisfied: six>=1.5 in c:\\users\\swkao\\appdata\\roaming\\python\\python311\\site-packages (from python-dateutil>=2.8.1->pandas!=0.25.0,>=0.25.0->backtesting) (1.16.0)\n",
      "Installing collected packages: xyzservices, PyYAML, MarkupSafe, Jinja2, bokeh, backtesting\n",
      "  Running setup.py install for backtesting: started\n",
      "  Running setup.py install for backtesting: finished with status 'done'\n",
      "Successfully installed Jinja2-3.1.2 MarkupSafe-2.1.2 PyYAML-6.0 backtesting-0.3.3 bokeh-3.0.3 xyzservices-2023.2.0\n"
     ]
    },
    {
     "name": "stderr",
     "output_type": "stream",
     "text": [
      "  DEPRECATION: backtesting is being installed using the legacy 'setup.py install' method, because it does not have a 'pyproject.toml' and the 'wheel' package is not installed. pip 23.1 will enforce this behaviour change. A possible replacement is to enable the '--use-pep517' option. Discussion can be found at https://github.com/pypa/pip/issues/8559\n"
     ]
    }
   ],
   "source": [
    "!pip install backtesting"
   ]
  },
  {
   "cell_type": "code",
   "execution_count": 1,
   "metadata": {},
   "outputs": [
    {
     "name": "stderr",
     "output_type": "stream",
     "text": [
      "c:\\Python311\\Lib\\site-packages\\tqdm\\auto.py:22: TqdmWarning: IProgress not found. Please update jupyter and ipywidgets. See https://ipywidgets.readthedocs.io/en/stable/user_install.html\n",
      "  from .autonotebook import tqdm as notebook_tqdm\n"
     ]
    }
   ],
   "source": [
    "import mariadb\n",
    "import pandas   as pd\n",
    "from datetime import datetime\n",
    "from backtesting import Backtest, Strategy\n",
    "from backtesting.lib import crossover\n",
    "from backtesting.test import SMA"
   ]
  },
  {
   "cell_type": "code",
   "execution_count": 9,
   "metadata": {},
   "outputs": [
    {
     "data": {
      "text/html": [
       "<div>\n",
       "<style scoped>\n",
       "    .dataframe tbody tr th:only-of-type {\n",
       "        vertical-align: middle;\n",
       "    }\n",
       "\n",
       "    .dataframe tbody tr th {\n",
       "        vertical-align: top;\n",
       "    }\n",
       "\n",
       "    .dataframe thead th {\n",
       "        text-align: right;\n",
       "    }\n",
       "</style>\n",
       "<table border=\"1\" class=\"dataframe\">\n",
       "  <thead>\n",
       "    <tr style=\"text-align: right;\">\n",
       "      <th></th>\n",
       "      <th>Open</th>\n",
       "      <th>High</th>\n",
       "      <th>Low</th>\n",
       "      <th>Close</th>\n",
       "      <th>Volume</th>\n",
       "    </tr>\n",
       "    <tr>\n",
       "      <th>date</th>\n",
       "      <th></th>\n",
       "      <th></th>\n",
       "      <th></th>\n",
       "      <th></th>\n",
       "      <th></th>\n",
       "    </tr>\n",
       "  </thead>\n",
       "  <tbody>\n",
       "    <tr>\n",
       "      <th>2022-01-03</th>\n",
       "      <td>18850</td>\n",
       "      <td>18900</td>\n",
       "      <td>18600</td>\n",
       "      <td>18800</td>\n",
       "      <td>8954</td>\n",
       "    </tr>\n",
       "    <tr>\n",
       "      <th>2022-01-04</th>\n",
       "      <td>18850</td>\n",
       "      <td>18850</td>\n",
       "      <td>18600</td>\n",
       "      <td>18600</td>\n",
       "      <td>8138</td>\n",
       "    </tr>\n",
       "    <tr>\n",
       "      <th>2022-01-05</th>\n",
       "      <td>18750</td>\n",
       "      <td>18750</td>\n",
       "      <td>18450</td>\n",
       "      <td>18450</td>\n",
       "      <td>7794</td>\n",
       "    </tr>\n",
       "    <tr>\n",
       "      <th>2022-01-06</th>\n",
       "      <td>18200</td>\n",
       "      <td>18500</td>\n",
       "      <td>18000</td>\n",
       "      <td>18050</td>\n",
       "      <td>12756</td>\n",
       "    </tr>\n",
       "    <tr>\n",
       "      <th>2022-01-07</th>\n",
       "      <td>18050</td>\n",
       "      <td>18550</td>\n",
       "      <td>18050</td>\n",
       "      <td>18450</td>\n",
       "      <td>8534</td>\n",
       "    </tr>\n",
       "  </tbody>\n",
       "</table>\n",
       "</div>"
      ],
      "text/plain": [
       "             Open   High    Low  Close  Volume\n",
       "date                                          \n",
       "2022-01-03  18850  18900  18600  18800    8954\n",
       "2022-01-04  18850  18850  18600  18600    8138\n",
       "2022-01-05  18750  18750  18450  18450    7794\n",
       "2022-01-06  18200  18500  18000  18050   12756\n",
       "2022-01-07  18050  18550  18050  18450    8534"
      ]
     },
     "execution_count": 9,
     "metadata": {},
     "output_type": "execute_result"
    }
   ],
   "source": [
    "try:\n",
    "    conn = mariadb.connect(\n",
    "        user=\"root\",\n",
    "        password=\"123\",\n",
    "        host=\"localhost\",\n",
    "        port=3306,\n",
    "        database=\"home\"\n",
    "    )\n",
    "except mariadb.Error as e:\n",
    "    print(f\"Error connecting to MariaDB Platform: {e}\")\n",
    "\n",
    "cursor = conn.cursor()\n",
    "cursor.execute(\"select * from daily_price where  CODE = ?\",[('100840')])\n",
    "data = cursor.fetchall()\n",
    "desc = list(map(lambda x : x[0],cursor.description))\n",
    "conn.close()\n",
    "\n",
    "df =  pd.DataFrame(data=data, columns=desc)\n",
    "df['date'] = pd.to_datetime(df['date'], format='%Y%m%d', errors='raise')\n",
    "df = df.set_index(df['date'],drop=True)\n",
    "df = df.drop(columns=['code','date','chg'])\n",
    "df = df.rename(columns={'open':'Open','high':'High','low':'Low','close':'Close','volume':'Volume'})\n",
    "df.head(5)"
   ]
  },
  {
   "attachments": {},
   "cell_type": "markdown",
   "metadata": {},
   "source": [
    "pip install bokeh==2.4.3"
   ]
  },
  {
   "cell_type": "code",
   "execution_count": 25,
   "metadata": {},
   "outputs": [
    {
     "name": "stdout",
     "output_type": "stream",
     "text": [
      "Start                     2022-01-03 00:00:00\n",
      "End                       2023-02-17 00:00:00\n",
      "Duration                    410 days 00:00:00\n",
      "Exposure Time [%]                   70.967742\n",
      "Equity Final [$]                 115788412.84\n",
      "Equity Peak [$]                 140655813.005\n",
      "Return [%]                          15.788413\n",
      "Buy & Hold Return [%]                8.776596\n",
      "Return (Ann.) [%]                   14.157372\n",
      "Volatility (Ann.) [%]               43.563328\n",
      "Sharpe Ratio                         0.324984\n",
      "Sortino Ratio                        0.523139\n",
      "Calmar Ratio                         0.490643\n",
      "Max. Drawdown [%]                  -28.854755\n",
      "Avg. Drawdown [%]                   -9.588094\n",
      "Max. Drawdown Duration      184 days 00:00:00\n",
      "Avg. Drawdown Duration       40 days 00:00:00\n",
      "# Trades                                   23\n",
      "Win Rate [%]                        34.782609\n",
      "Best Trade [%]                      24.763489\n",
      "Worst Trade [%]                    -11.514053\n",
      "Avg. Trade [%]                       0.639415\n",
      "Max. Trade Duration          84 days 00:00:00\n",
      "Avg. Trade Duration          13 days 00:00:00\n",
      "Profit Factor                        1.467567\n",
      "Expectancy [%]                       0.973724\n",
      "SQN                                  0.348387\n",
      "_strategy                          MyStrategy\n",
      "_equity_curve                             ...\n",
      "_trades                       Size  EntryB...\n",
      "dtype: object\n",
      "                  Equity  DrawdownPct DrawdownDuration\n",
      "2022-01-03  1.000000e+08     0.000000              NaT\n",
      "2022-01-04  1.000000e+08     0.000000              NaT\n",
      "2022-01-05  1.000000e+08     0.000000              NaT\n",
      "2022-01-06  1.000000e+08     0.000000              NaT\n",
      "2022-01-07  1.000000e+08     0.000000              NaT\n",
      "...                  ...          ...              ...\n",
      "2023-02-13  1.155809e+08     0.178272              NaT\n",
      "2023-02-14  1.151658e+08     0.181223              NaT\n",
      "2023-02-15  1.166186e+08     0.170894              NaT\n",
      "2023-02-16  1.157884e+08     0.176796              NaT\n",
      "2023-02-17  1.157884e+08     0.176796         184 days\n",
      "\n",
      "[279 rows x 3 columns]\n",
      "    Size  EntryBar  ExitBar  EntryPrice  ExitPrice           PnL  ReturnPct  \\\n",
      "0  -4556        80       81  21946.7075      22200 -1.154001e+06  -0.011541   \n",
      "1  -4453        81      109  22196.6700      16700  2.447667e+07   0.247635   \n",
      "2   7383       109      110  16702.5050      16600 -7.567944e+05  -0.006137   \n",
      "3   7382       110      111  16602.4900      16600 -1.838118e+04  -0.000150   \n",
      "4   7381       111      112  16602.4900      15850 -5.554129e+06  -0.045324   \n",
      "5   7380       112      113  15852.3775      15850 -1.754595e+04  -0.000150   \n",
      "6   7379       113      114  15852.3775      15050 -5.920744e+06  -0.050616   \n",
      "7   7377       114      115  15052.2575      14550 -3.705154e+06  -0.033368   \n",
      "8   7376       115      116  14552.1825      15200  4.778302e+06   0.044517   \n",
      "9   7375       116      150  15202.2800      18450  2.395193e+07   0.213634   \n",
      "10 -7376       150      151  18447.2325      18700 -1.864413e+06  -0.013702   \n",
      "11 -7178       151      155  18697.1950      20850 -1.545283e+07  -0.115141   \n",
      "12 -5696       155      157  20846.8725      21050 -1.157014e+06  -0.009744   \n",
      "13 -5587       157      158  21046.8425      21550 -2.811141e+06  -0.023907   \n",
      "14 -5327       158      159  21546.7675      21350  1.048180e+06   0.009132   \n",
      "15 -5426       159      160  21346.7975      23800 -1.331108e+07  -0.114921   \n",
      "16 -4308       160      161  23796.4300      23600  8.462204e+05   0.008255   \n",
      "17 -4381       161      162  23596.4600      23150  1.955941e+06   0.018921   \n",
      "18 -4550       162      163  23146.5275      23150 -1.579987e+04  -0.000150   \n",
      "19 -4550       163      166  23146.5275      24300 -5.248300e+06  -0.049834   \n",
      "20 -4118       166      219  24296.3550      24100  8.085899e+05   0.008082   \n",
      "21 -4186       219      220  24096.3850      24200 -4.337324e+05  -0.004300   \n",
      "22 -4151       220      277  24196.3700      20500  1.534363e+07   0.152765   \n",
      "\n",
      "    EntryTime   ExitTime Duration  \n",
      "0  2022-05-02 2022-05-03   1 days  \n",
      "1  2022-05-03 2022-06-15  43 days  \n",
      "2  2022-06-15 2022-06-16   1 days  \n",
      "3  2022-06-16 2022-06-17   1 days  \n",
      "4  2022-06-17 2022-06-20   3 days  \n",
      "5  2022-06-20 2022-06-21   1 days  \n",
      "6  2022-06-21 2022-06-22   1 days  \n",
      "7  2022-06-22 2022-06-23   1 days  \n",
      "8  2022-06-23 2022-06-24   1 days  \n",
      "9  2022-06-24 2022-08-11  48 days  \n",
      "10 2022-08-11 2022-08-12   1 days  \n",
      "11 2022-08-12 2022-08-19   7 days  \n",
      "12 2022-08-19 2022-08-23   4 days  \n",
      "13 2022-08-23 2022-08-24   1 days  \n",
      "14 2022-08-24 2022-08-25   1 days  \n",
      "15 2022-08-25 2022-08-26   1 days  \n",
      "16 2022-08-26 2022-08-29   3 days  \n",
      "17 2022-08-29 2022-08-30   1 days  \n",
      "18 2022-08-30 2022-08-31   1 days  \n",
      "19 2022-08-31 2022-09-05   5 days  \n",
      "20 2022-09-05 2022-11-23  79 days  \n",
      "21 2022-11-23 2022-11-24   1 days  \n",
      "22 2022-11-24 2023-02-16  84 days  \n"
     ]
    },
    {
     "data": {
      "text/html": [
       "<div style=\"display: table;\"><div style=\"display: table-row;\"><div style=\"display: table-cell;\"><b title=\"bokeh.models.layouts.Row\">Row</b>(</div><div style=\"display: table-cell;\">id&nbsp;=&nbsp;'8175', <span id=\"8906\" style=\"cursor: pointer;\">&hellip;)</span></div></div><div class=\"8905\" style=\"display: none;\"><div style=\"display: table-cell;\"></div><div style=\"display: table-cell;\">align&nbsp;=&nbsp;'start',</div></div><div class=\"8905\" style=\"display: none;\"><div style=\"display: table-cell;\"></div><div style=\"display: table-cell;\">aspect_ratio&nbsp;=&nbsp;None,</div></div><div class=\"8905\" style=\"display: none;\"><div style=\"display: table-cell;\"></div><div style=\"display: table-cell;\">background&nbsp;=&nbsp;None,</div></div><div class=\"8905\" style=\"display: none;\"><div style=\"display: table-cell;\"></div><div style=\"display: table-cell;\">children&nbsp;=&nbsp;[GridBox(id='8172', ...), ToolbarBox(id='8174', ...)],</div></div><div class=\"8905\" style=\"display: none;\"><div style=\"display: table-cell;\"></div><div style=\"display: table-cell;\">cols&nbsp;=&nbsp;'auto',</div></div><div class=\"8905\" style=\"display: none;\"><div style=\"display: table-cell;\"></div><div style=\"display: table-cell;\">css_classes&nbsp;=&nbsp;[],</div></div><div class=\"8905\" style=\"display: none;\"><div style=\"display: table-cell;\"></div><div style=\"display: table-cell;\">disabled&nbsp;=&nbsp;False,</div></div><div class=\"8905\" style=\"display: none;\"><div style=\"display: table-cell;\"></div><div style=\"display: table-cell;\">height&nbsp;=&nbsp;None,</div></div><div class=\"8905\" style=\"display: none;\"><div style=\"display: table-cell;\"></div><div style=\"display: table-cell;\">height_policy&nbsp;=&nbsp;'auto',</div></div><div class=\"8905\" style=\"display: none;\"><div style=\"display: table-cell;\"></div><div style=\"display: table-cell;\">js_event_callbacks&nbsp;=&nbsp;{},</div></div><div class=\"8905\" style=\"display: none;\"><div style=\"display: table-cell;\"></div><div style=\"display: table-cell;\">js_property_callbacks&nbsp;=&nbsp;{},</div></div><div class=\"8905\" style=\"display: none;\"><div style=\"display: table-cell;\"></div><div style=\"display: table-cell;\">margin&nbsp;=&nbsp;(0, 0, 0, 0),</div></div><div class=\"8905\" style=\"display: none;\"><div style=\"display: table-cell;\"></div><div style=\"display: table-cell;\">max_height&nbsp;=&nbsp;None,</div></div><div class=\"8905\" style=\"display: none;\"><div style=\"display: table-cell;\"></div><div style=\"display: table-cell;\">max_width&nbsp;=&nbsp;None,</div></div><div class=\"8905\" style=\"display: none;\"><div style=\"display: table-cell;\"></div><div style=\"display: table-cell;\">min_height&nbsp;=&nbsp;None,</div></div><div class=\"8905\" style=\"display: none;\"><div style=\"display: table-cell;\"></div><div style=\"display: table-cell;\">min_width&nbsp;=&nbsp;None,</div></div><div class=\"8905\" style=\"display: none;\"><div style=\"display: table-cell;\"></div><div style=\"display: table-cell;\">name&nbsp;=&nbsp;None,</div></div><div class=\"8905\" style=\"display: none;\"><div style=\"display: table-cell;\"></div><div style=\"display: table-cell;\">sizing_mode&nbsp;=&nbsp;'stretch_width',</div></div><div class=\"8905\" style=\"display: none;\"><div style=\"display: table-cell;\"></div><div style=\"display: table-cell;\">spacing&nbsp;=&nbsp;0,</div></div><div class=\"8905\" style=\"display: none;\"><div style=\"display: table-cell;\"></div><div style=\"display: table-cell;\">subscribed_events&nbsp;=&nbsp;[],</div></div><div class=\"8905\" style=\"display: none;\"><div style=\"display: table-cell;\"></div><div style=\"display: table-cell;\">syncable&nbsp;=&nbsp;True,</div></div><div class=\"8905\" style=\"display: none;\"><div style=\"display: table-cell;\"></div><div style=\"display: table-cell;\">tags&nbsp;=&nbsp;[],</div></div><div class=\"8905\" style=\"display: none;\"><div style=\"display: table-cell;\"></div><div style=\"display: table-cell;\">visible&nbsp;=&nbsp;True,</div></div><div class=\"8905\" style=\"display: none;\"><div style=\"display: table-cell;\"></div><div style=\"display: table-cell;\">width&nbsp;=&nbsp;None,</div></div><div class=\"8905\" style=\"display: none;\"><div style=\"display: table-cell;\"></div><div style=\"display: table-cell;\">width_policy&nbsp;=&nbsp;'auto')</div></div></div>\n",
       "<script>\n",
       "(function() {\n",
       "  let expanded = false;\n",
       "  const ellipsis = document.getElementById(\"8906\");\n",
       "  ellipsis.addEventListener(\"click\", function() {\n",
       "    const rows = document.getElementsByClassName(\"8905\");\n",
       "    for (let i = 0; i < rows.length; i++) {\n",
       "      const el = rows[i];\n",
       "      el.style.display = expanded ? \"none\" : \"table-row\";\n",
       "    }\n",
       "    ellipsis.innerHTML = expanded ? \"&hellip;)\" : \"&lsaquo;&lsaquo;&lsaquo;\";\n",
       "    expanded = !expanded;\n",
       "  });\n",
       "})();\n",
       "</script>\n"
      ],
      "text/plain": [
       "Row(id='8175', ...)"
      ]
     },
     "execution_count": 25,
     "metadata": {},
     "output_type": "execute_result"
    }
   ],
   "source": [
    "import ta\n",
    "\n",
    "def RSI(series, window=14):\n",
    "    return ta.momentum.RSIIndicator(pd.Series(series), window, False).rsi()\n",
    "\n",
    "class MyStrategy(Strategy) :\n",
    "    \n",
    "    def  init(self) :\n",
    "        super().init()\n",
    "        self.ma20 = self.I(SMA, self.data.Close, 20)\n",
    "        self.ma60 = self.I(SMA, self.data.Close, 60)\n",
    "        self.rsi = self.I(RSI, self.data.Close, 14)\n",
    "\n",
    "    def next(self) :\n",
    "        if self.rsi < 30 :\n",
    "            self.buy()\n",
    "        elif self.rsi > 70 :\n",
    "            self.sell()\n",
    "\n",
    "bt = Backtest(df, MyStrategy, cash=100_000_000,commission=.00015, exclusive_orders=True, trade_on_close=True)\n",
    "stats = bt.run()\n",
    "print(stats)\n",
    "print(stats['_equity_curve'])\n",
    "print(stats['_trades'])\n",
    "bt.plot()"
   ]
  }
 ],
 "metadata": {
  "kernelspec": {
   "display_name": "Python 3",
   "language": "python",
   "name": "python3"
  },
  "language_info": {
   "codemirror_mode": {
    "name": "ipython",
    "version": 3
   },
   "file_extension": ".py",
   "mimetype": "text/x-python",
   "name": "python",
   "nbconvert_exporter": "python",
   "pygments_lexer": "ipython3",
   "version": "3.11.1"
  },
  "orig_nbformat": 4,
  "vscode": {
   "interpreter": {
    "hash": "c261aea317cc0286b3b3261fbba9abdec21eaa57589985bb7a274bf54d6cc0a7"
   }
  }
 },
 "nbformat": 4,
 "nbformat_minor": 2
}
